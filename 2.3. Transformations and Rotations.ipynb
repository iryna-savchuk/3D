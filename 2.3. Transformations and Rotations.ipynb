{
 "cells": [
  {
   "cell_type": "markdown",
   "id": "2fb489a1",
   "metadata": {},
   "source": [
    "A **rigid transformation** (also called Euclidean transformation or Euclidean isometry) - a geometric transformation of a Euclidean space that **preserves the Euclidean distance** between every pair of points. PyTorch3D provides a high-level encapsulation of these transformations in the \"pytorch3d.transforms.Transform3d\" class.\n",
    "\n",
    "- Lie group **SO(3)** - special orthogonal group in 3D (informally speaking,the set of all the rotation transformations);\n",
    "- Lie group **SE(3)** - special Euclidean group in 3D (informally, the set of all the rigid transformations in 3D)."
   ]
  },
  {
   "cell_type": "code",
   "execution_count": 1,
   "id": "49791a3b",
   "metadata": {},
   "outputs": [],
   "source": [
    "# Importing the packages\n",
    "import torch\n",
    "from pytorch3d.transforms.so3 import so3_exp_map, so3_log_map, hat_inv, hat"
   ]
  },
  {
   "cell_type": "code",
   "execution_count": 2,
   "id": "38d1490b",
   "metadata": {},
   "outputs": [
    {
     "name": "stdout",
     "output_type": "stream",
     "text": [
      "WARNING: CPU only, this will be more slowly\n"
     ]
    }
   ],
   "source": [
    "# Defining PyTorch device\n",
    "if torch.cuda.is_available():\n",
    "    device = torch.device(\"cuda:0\")\n",
    "else:\n",
    "    device = torch.device(\"cpu\")\n",
    "    print(\"WARNING: CPU only, this will be more slowly\")"
   ]
  },
  {
   "cell_type": "code",
   "execution_count": 3,
   "id": "84a52a65",
   "metadata": {},
   "outputs": [
    {
     "data": {
      "text/plain": [
       "tensor([[1.0000e-03, 1.0000e-04, 2.0000e-04],\n",
       "        [1.0000e-04, 1.0000e-03, 2.0000e-04],\n",
       "        [1.0000e-04, 2.0000e-04, 1.0000e-03],\n",
       "        [1.0000e-03, 2.0000e-03, 3.0000e-03]])"
      ]
     },
     "execution_count": 3,
     "metadata": {},
     "output_type": "execute_result"
    }
   ],
   "source": [
    "# Defining a mini-batch of four rotations\n",
    "\n",
    "# Each rotation is represented by one 3D vector. \n",
    "# The direction of the vector represents the rotation axis \n",
    "# and the amplitude of the vector represents the angle of rotation:\n",
    "\n",
    "log_rot = torch.zeros([4, 3], device = device) # batch size is 4 and each rotation is a 3D vector. \n",
    "\n",
    "log_rot[0, 0] = 0.001\n",
    "log_rot[0, 1] = 0.0001\n",
    "log_rot[0, 2] = 0.0002\n",
    "\n",
    "log_rot[1, 0] = 0.0001\n",
    "log_rot[1, 1] = 0.001\n",
    "log_rot[1, 2] = 0.0002\n",
    "\n",
    "log_rot[2, 0] = 0.0001\n",
    "log_rot[2, 1] = 0.0002\n",
    "log_rot[2, 2] = 0.001\n",
    "\n",
    "log_rot[3, 0] = 0.001\n",
    "log_rot[3, 1] = 0.002\n",
    "log_rot[3, 2] = 0.003\n",
    "\n",
    "log_rot"
   ]
  },
  {
   "cell_type": "code",
   "execution_count": 4,
   "id": "672a8aa6",
   "metadata": {},
   "outputs": [
    {
     "name": "stdout",
     "output_type": "stream",
     "text": [
      "log_rot_hat shape =  torch.Size([4, 3, 3])\n",
      "log_rot_hat =  tensor([[[ 0.0000e+00, -2.0000e-04,  1.0000e-04],\n",
      "         [ 2.0000e-04,  0.0000e+00, -1.0000e-03],\n",
      "         [-1.0000e-04,  1.0000e-03,  0.0000e+00]],\n",
      "\n",
      "        [[ 0.0000e+00, -2.0000e-04,  1.0000e-03],\n",
      "         [ 2.0000e-04,  0.0000e+00, -1.0000e-04],\n",
      "         [-1.0000e-03,  1.0000e-04,  0.0000e+00]],\n",
      "\n",
      "        [[ 0.0000e+00, -1.0000e-03,  2.0000e-04],\n",
      "         [ 1.0000e-03,  0.0000e+00, -1.0000e-04],\n",
      "         [-2.0000e-04,  1.0000e-04,  0.0000e+00]],\n",
      "\n",
      "        [[ 0.0000e+00, -3.0000e-03,  2.0000e-03],\n",
      "         [ 3.0000e-03,  0.0000e+00, -1.0000e-03],\n",
      "         [-2.0000e-03,  1.0000e-03,  0.0000e+00]]])\n"
     ]
    }
   ],
   "source": [
    "# Using hat operator, to convert rotations into the 3 x 3 skew-symmetric matrix \n",
    "log_rot_hat = hat(log_rot)\n",
    "\n",
    "print('log_rot_hat shape = ', log_rot_hat.shape)\n",
    "print('log_rot_hat = ', log_rot_hat)"
   ]
  },
  {
   "cell_type": "code",
   "execution_count": 5,
   "id": "f32e29a0",
   "metadata": {},
   "outputs": [
    {
     "name": "stdout",
     "output_type": "stream",
     "text": [
      "log_rot_copy shape =  torch.Size([4, 3])\n",
      "log_rot_copy =  tensor([[1.0000e-03, 1.0000e-04, 2.0000e-04],\n",
      "        [1.0000e-04, 1.0000e-03, 2.0000e-04],\n",
      "        [1.0000e-04, 2.0000e-04, 1.0000e-03],\n",
      "        [1.0000e-03, 2.0000e-03, 3.0000e-03]])\n"
     ]
    }
   ],
   "source": [
    "# The backward conversion, if needed\n",
    "log_rot_copy = hat_inv(log_rot_hat)\n",
    "\n",
    "print('log_rot_copy shape = ', log_rot_copy.shape)\n",
    "print('log_rot_copy = ', log_rot_copy)"
   ]
  },
  {
   "cell_type": "code",
   "execution_count": 6,
   "id": "edc895ab",
   "metadata": {},
   "outputs": [
    {
     "name": "stdout",
     "output_type": "stream",
     "text": [
      "rotation_matrices =  tensor([[[ 1.0000e+00, -1.9995e-04,  1.0010e-04],\n",
      "         [ 2.0005e-04,  1.0000e+00, -9.9997e-04],\n",
      "         [-9.9898e-05,  9.9999e-04,  1.0000e+00]],\n",
      "\n",
      "        [[ 1.0000e+00, -1.9995e-04,  9.9999e-04],\n",
      "         [ 2.0005e-04,  1.0000e+00, -9.9898e-05],\n",
      "         [-9.9997e-04,  1.0010e-04,  1.0000e+00]],\n",
      "\n",
      "        [[ 1.0000e+00, -9.9997e-04,  2.0005e-04],\n",
      "         [ 9.9999e-04,  1.0000e+00, -9.9898e-05],\n",
      "         [-1.9995e-04,  1.0010e-04,  1.0000e+00]],\n",
      "\n",
      "        [[ 9.9999e-01, -2.9989e-03,  2.0015e-03],\n",
      "         [ 3.0010e-03,  9.9999e-01, -9.9698e-04],\n",
      "         [-1.9985e-03,  1.0030e-03,  1.0000e+00]]])\n"
     ]
    }
   ],
   "source": [
    "# From the gradient matrix, we can compute the rotation matrix - \n",
    "# so3_exp_map\n",
    "\n",
    "rotation_matrices = so3_exp_map(log_rot)\n",
    "print('rotation_matrices = ', rotation_matrices)"
   ]
  },
  {
   "cell_type": "code",
   "execution_count": 7,
   "id": "e950fcb4",
   "metadata": {},
   "outputs": [
    {
     "name": "stdout",
     "output_type": "stream",
     "text": [
      "log_rot_again =  tensor([[9.9999e-04, 9.9999e-05, 2.0000e-04],\n",
      "        [9.9999e-05, 9.9999e-04, 2.0000e-04],\n",
      "        [9.9999e-05, 2.0000e-04, 9.9999e-04],\n",
      "        [9.9999e-04, 2.0000e-03, 3.0000e-03]])\n"
     ]
    }
   ],
   "source": [
    "# inverse conversation of the rotation matrix to the gradient matrix - \n",
    "# so3_log_map\n",
    "log_rot_again = so3_log_map(rotation_matrices)\n",
    "print('log_rot_again = ', log_rot_again)"
   ]
  },
  {
   "cell_type": "code",
   "execution_count": null,
   "id": "80434918",
   "metadata": {},
   "outputs": [],
   "source": []
  }
 ],
 "metadata": {
  "kernelspec": {
   "display_name": ".3d",
   "language": "python",
   "name": ".3d"
  },
  "language_info": {
   "codemirror_mode": {
    "name": "ipython",
    "version": 3
   },
   "file_extension": ".py",
   "mimetype": "text/x-python",
   "name": "python",
   "nbconvert_exporter": "python",
   "pygments_lexer": "ipython3",
   "version": "3.10.4"
  }
 },
 "nbformat": 4,
 "nbformat_minor": 5
}
