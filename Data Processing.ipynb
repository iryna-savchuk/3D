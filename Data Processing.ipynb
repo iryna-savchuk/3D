{
 "cells": [
  {
   "cell_type": "markdown",
   "id": "26c4ebf7",
   "metadata": {},
   "source": [
    "## 3D Data Representations\n",
    "**1) 3D Point Cloud** - collection of 3D points, where each point is  represented bt one 3-dimensional tuple (x, y, z).\n",
    "Issues:\n",
    "- From DL point of view, 3D point clouds are one of the unourdered and irrgular data types: there are no clear and regular definition of the neighbourhood, so convolutions usually cannot be applied to ppint clouds. Thus, special typed of  DL models need to be used, like [PointNet](https://arxiv.org/abs/1612.00593). \n",
    "- Heterogeneous data issue, meaning for one training dataset, different point clouds may contain different number of 3D points. Heterogeneous data can create some difficulties when using mini-batch Gradient Descent training.\n",
    "\n",
    "**2) Mesh Representation** - another widely used 3D data representation. Each mesh contains a set of 3D points(vertices) and a set of polygons(faces), which are defined on the vertices. In most cases, meshes are obtained from post-processingfrom raw measurements of depth cameras or manually created during 3D asset design. \n",
    "Meshes contain additional geometric information and encode topology, and, like 3D point clouds, have heterogeneous data issues.\n",
    "\n",
    "**3) Voxel Representation** - a representation based on voxel, a counterpart of pixel in 3D Comuter Vision.A voxel is definied by dividing a 3D-cude into small-sezed cubes - each of cubes is called voxel. Important definitions related to voxels:\n",
    "- SDF(Signed Distance Function): signed distance between the voxel center and the closest point on the surface (a positive sign means the voxel center is outside an object),\n",
    "- TSDF(Trancated Signed Distance Function): truncated values of SDF, so they range from -1 to +1. \n",
    "Voxel representation is ordered and regular, so it is possible to use convolution filters. The potential disadvanage - voxel representation requires more computer memory."
   ]
  },
  {
   "cell_type": "markdown",
   "id": "3fce987e",
   "metadata": {},
   "source": [
    "## Ply Files"
   ]
  },
  {
   "cell_type": "code",
   "execution_count": null,
   "id": "1f7c160b",
   "metadata": {},
   "outputs": [],
   "source": [
    "##"
   ]
  }
 ],
 "metadata": {
  "kernelspec": {
   "display_name": ".3d",
   "language": "python",
   "name": ".3d"
  },
  "language_info": {
   "codemirror_mode": {
    "name": "ipython",
    "version": 3
   },
   "file_extension": ".py",
   "mimetype": "text/x-python",
   "name": "python",
   "nbconvert_exporter": "python",
   "pygments_lexer": "ipython3",
   "version": "3.10.4"
  }
 },
 "nbformat": 4,
 "nbformat_minor": 5
}
