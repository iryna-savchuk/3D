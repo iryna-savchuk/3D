{
 "cells": [
  {
   "cell_type": "markdown",
   "id": "05af7bfe",
   "metadata": {},
   "source": [
    "## 3D Data Representations\n",
    "**1) 3D Point Cloud** - collection of 3D points, where each point is  represented bt one 3-dimensional tuple (x, y, z).\n",
    "Issues:\n",
    "- From DL point of view, 3D point clouds are one of the unourdered and irrgular data types: there are no clear and regular definition of the neighbourhood, so convolutions usually cannot be applied to ppint clouds. Thus, special typed of  DL models need to be used, like [PointNet](https://arxiv.org/abs/1612.00593). \n",
    "- Heterogeneous data issue, meaning for one training dataset, different point clouds may contain different number of 3D points. Heterogeneous data can create some difficulties when using mini-batch Gradient Descent training.\n",
    "\n",
    "**2) Mesh Representation** - another widely used 3D data representation. Each mesh contains a set of 3D points(vertices) and a set of polygons(faces), which are defined on the vertices. In most cases, meshes are obtained from post-processingfrom raw measurements of depth cameras or manually created during 3D asset design. \n",
    "Meshes contain additional geometric information and encode topology, and, like 3D point clouds, have heterogeneous data issues.\n",
    "\n",
    "**3) Voxel Representation** - a representation based on voxel, a counterpart of pixel in 3D Comuter Vision.A voxel is definied by dividing a 3D-cude into small-sezed cubes - each of cubes is called voxel. Important definitions related to voxels:\n",
    "- SDF(Signed Distance Function): signed distance between the voxel center and the closest point on the surface (a positive sign means the voxel center is outside an object),\n",
    "- TSDF(Trancated Signed Distance Function): truncated values of SDF, so they range from -1 to +1. \n",
    "Voxel representation is ordered and regular, so it is possible to use convolution filters. The potential disadvanage - voxel representation requires more computer memory."
   ]
  },
  {
   "cell_type": "markdown",
   "id": "d07aaa10",
   "metadata": {},
   "source": [
    "## Working with Ply Files"
   ]
  },
  {
   "cell_type": "markdown",
   "id": "966242a9",
   "metadata": {},
   "source": [
    "### Example 1 - 'cube.ply'"
   ]
  },
  {
   "cell_type": "code",
   "execution_count": 1,
   "id": "419e9110",
   "metadata": {},
   "outputs": [],
   "source": [
    "# open3d package is handy for visualizing 3D data\n",
    "# !pip install open3d\n",
    "import open3d\n",
    "\n",
    "from pytorch3d.io import load_ply "
   ]
  },
  {
   "cell_type": "code",
   "execution_count": 2,
   "id": "14d45212",
   "metadata": {},
   "outputs": [],
   "source": [
    "mesh_file = \"data/cube.ply\""
   ]
  },
  {
   "cell_type": "code",
   "execution_count": 3,
   "id": "1b070432",
   "metadata": {},
   "outputs": [
    {
     "name": "stdout",
     "output_type": "stream",
     "text": [
      "\u001b[1;33m[Open3D WARNING] GLFW Error: Cocoa: Failed to find service port for display\u001b[0;m\n",
      "\u001b[1;33m[Open3D WARNING] GLFW Error: Cocoa: Failed to find service port for display\u001b[0;m\n"
     ]
    }
   ],
   "source": [
    "# Load the mesh \n",
    "mesh = open3d.io.read_triangle_mesh(mesh_file)\n",
    "\n",
    "# Create a visualizer object and add the mesh\n",
    "vis = open3d.visualization.Visualizer()\n",
    "vis.create_window()\n",
    "vis.add_geometry(mesh)\n",
    "\n",
    "# Set mesh properties\n",
    "mesh_show_wireframe = True\n",
    "mesh_show_back_face = True\n",
    "\n",
    "# Render the visualization and wait for window close\n",
    "vis.get_render_option().mesh_show_wireframe = mesh_show_wireframe\n",
    "vis.get_render_option().mesh_show_back_face = mesh_show_back_face\n",
    "vis.run()\n",
    "vis.destroy_window()"
   ]
  },
  {
   "cell_type": "code",
   "execution_count": 4,
   "id": "f8515e65",
   "metadata": {},
   "outputs": [
    {
     "name": "stdout",
     "output_type": "stream",
     "text": [
      "Type of vertices =  <class 'torch.Tensor'> , type of faces =  <class 'torch.Tensor'>\n",
      "vertices =  tensor([[-1., -1., -1.],\n",
      "        [ 1., -1., -1.],\n",
      "        [ 1.,  1., -1.],\n",
      "        [-1.,  1., -1.],\n",
      "        [-1., -1.,  1.],\n",
      "        [ 1., -1.,  1.],\n",
      "        [ 1.,  1.,  1.],\n",
      "        [-1.,  1.,  1.]])\n",
      "faces =  tensor([[0, 1, 2],\n",
      "        [5, 4, 7],\n",
      "        [6, 2, 1],\n",
      "        [3, 7, 4],\n",
      "        [7, 3, 2],\n",
      "        [5, 1, 0],\n",
      "        [0, 2, 3],\n",
      "        [5, 7, 6],\n",
      "        [6, 1, 5],\n",
      "        [3, 4, 0],\n",
      "        [7, 2, 6],\n",
      "        [5, 0, 4]])\n"
     ]
    }
   ],
   "source": [
    "# Loading the same file with PyTorch3D\n",
    "vertices, faces = load_ply(mesh_file) #\n",
    "\n",
    "print('Type of vertices = ', type(vertices), \", type of faces = \", type(faces))\n",
    "print('vertices = ', vertices)\n",
    "print('faces = ', faces)"
   ]
  },
  {
   "cell_type": "markdown",
   "id": "297d507b",
   "metadata": {},
   "source": [
    "### Example 2 - 'parallel_plane_mono.ply'"
   ]
  },
  {
   "cell_type": "code",
   "execution_count": 6,
   "id": "9907df57",
   "metadata": {},
   "outputs": [],
   "source": [
    "mesh_file = \"data/parallel_plane_mono.ply\""
   ]
  },
  {
   "cell_type": "code",
   "execution_count": 7,
   "id": "f473b6cf",
   "metadata": {},
   "outputs": [
    {
     "name": "stdout",
     "output_type": "stream",
     "text": [
      "\u001b[1;33m[Open3D WARNING] GLFW Error: Cocoa: Failed to find service port for display\u001b[0;m\n"
     ]
    }
   ],
   "source": [
    "# Visualizing the mesh using open3D\n",
    "mesh = open3d.io.read_triangle_mesh(mesh_file)\n",
    "open3d.visualization.draw_geometries([mesh],\n",
    "                                     mesh_show_wireframe = True,\n",
    "                                     mesh_show_back_face = True,\n",
    "                                     )"
   ]
  },
  {
   "cell_type": "code",
   "execution_count": 8,
   "id": "009a2f2a",
   "metadata": {},
   "outputs": [
    {
     "name": "stdout",
     "output_type": "stream",
     "text": [
      "Type of vertices =  <class 'torch.Tensor'> , type of faces =  <class 'torch.Tensor'>\n",
      "vertices =  tensor([[-1., -1., -1.],\n",
      "        [ 1., -1., -1.],\n",
      "        [ 1.,  1., -1.],\n",
      "        [-1.,  1., -1.],\n",
      "        [-1., -1.,  1.],\n",
      "        [ 1., -1.,  1.],\n",
      "        [ 1.,  1.,  1.],\n",
      "        [-1.,  1.,  1.]])\n",
      "faces =  tensor([[0, 1, 2],\n",
      "        [0, 2, 3],\n",
      "        [5, 4, 7],\n",
      "        [5, 7, 6]])\n"
     ]
    }
   ],
   "source": [
    "# Loading the same file with PyTorch3D\n",
    "vertices, faces = load_ply(mesh_file)\n",
    "print('Type of vertices = ', type(vertices), \", type of faces = \", type(faces))\n",
    "print('vertices = ', vertices)\n",
    "print('faces = ', faces)"
   ]
  },
  {
   "cell_type": "markdown",
   "id": "1181c33b",
   "metadata": {},
   "source": [
    "### Example 3 - 'parallel_plane_color.ply'"
   ]
  },
  {
   "cell_type": "markdown",
   "id": "7ea51c96",
   "metadata": {},
   "source": [
    "In the .ply file in this example, additional properties are defined for each vertex - red, green and blue properties of 'uchar' data type (see 'parallel_plane_color.ply' for details)"
   ]
  },
  {
   "cell_type": "code",
   "execution_count": 9,
   "id": "4b143069",
   "metadata": {},
   "outputs": [],
   "source": [
    "mesh_file = \"data/parallel_plane_color.ply\""
   ]
  },
  {
   "cell_type": "code",
   "execution_count": 10,
   "id": "7d512977",
   "metadata": {},
   "outputs": [
    {
     "name": "stdout",
     "output_type": "stream",
     "text": [
      "\u001b[1;33m[Open3D WARNING] GLFW Error: Cocoa: Failed to find service port for display\u001b[0;m\n"
     ]
    }
   ],
   "source": [
    "# Visualizing the mesh using open3D\n",
    "mesh = open3d.io.read_triangle_mesh(mesh_file)\n",
    "open3d.visualization.draw_geometries([mesh],\n",
    "                                     mesh_show_wireframe = True,\n",
    "                                     mesh_show_back_face = True,\n",
    "                                     )"
   ]
  },
  {
   "cell_type": "code",
   "execution_count": 11,
   "id": "d64528a1",
   "metadata": {},
   "outputs": [
    {
     "name": "stdout",
     "output_type": "stream",
     "text": [
      "Type of vertices =  <class 'torch.Tensor'> , type of faces =  <class 'torch.Tensor'>\n",
      "vertices =  tensor([[-1., -1., -1.],\n",
      "        [ 1., -1., -1.],\n",
      "        [ 1.,  1., -1.],\n",
      "        [-1.,  1., -1.],\n",
      "        [-1., -1.,  1.],\n",
      "        [ 1., -1.,  1.],\n",
      "        [ 1.,  1.,  1.],\n",
      "        [-1.,  1.,  1.]])\n",
      "faces =  tensor([[0, 1, 2],\n",
      "        [0, 2, 3],\n",
      "        [5, 4, 7],\n",
      "        [5, 7, 6]])\n"
     ]
    }
   ],
   "source": [
    "# Loading the same file with PyTorch3D\n",
    "vertices, faces = load_ply(mesh_file)\n",
    "print('Type of vertices = ', type(vertices), \", type of faces = \", type(faces))\n",
    "print('vertices = ', vertices)\n",
    "print('faces = ', faces)"
   ]
  },
  {
   "cell_type": "code",
   "execution_count": null,
   "id": "ee5a7fdc",
   "metadata": {},
   "outputs": [],
   "source": []
  }
 ],
 "metadata": {
  "kernelspec": {
   "display_name": ".3d",
   "language": "python",
   "name": ".3d"
  },
  "language_info": {
   "codemirror_mode": {
    "name": "ipython",
    "version": 3
   },
   "file_extension": ".py",
   "mimetype": "text/x-python",
   "name": "python",
   "nbconvert_exporter": "python",
   "pygments_lexer": "ipython3",
   "version": "3.10.4"
  }
 },
 "nbformat": 4,
 "nbformat_minor": 5
}
