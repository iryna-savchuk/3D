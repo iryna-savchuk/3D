{
 "cells": [
  {
   "cell_type": "markdown",
   "id": "ca795769",
   "metadata": {},
   "source": [
    "# Fitting Deformable Mesh Models to Raw Point Clouds\n",
    "\n",
    "Raw observations from depth cameras are often obtained in the format of point clouds and without any information on how the points are connected. Reconstructing the surface information from point clouds (meaning building a mesh, where the list of faces is defined) is usually a standard step in 3D data processing pipelines. \n",
    "\n",
    "Though many approaches exist to reconstruct 3D surface from points clouds, we will explore fitting deformable mesh models for point clouds: it is a practical and simple baseline. Also, it is based on PyTorch optimization and implemented using PyTorch3D functions."
   ]
  },
  {
   "cell_type": "code",
   "execution_count": 1,
   "id": "798dbc34",
   "metadata": {},
   "outputs": [],
   "source": [
    "ply_file = 'data/pedestrian.ply' # file containing input point cloud"
   ]
  },
  {
   "cell_type": "markdown",
   "id": "6532798b",
   "metadata": {},
   "source": [
    "## Visualizing mesh with Open3d"
   ]
  },
  {
   "cell_type": "code",
   "execution_count": 17,
   "id": "e3e27fc8",
   "metadata": {},
   "outputs": [
    {
     "name": "stdout",
     "output_type": "stream",
     "text": [
      "\u001b[1;33m[Open3D WARNING] GLFW Error: Cocoa: Failed to find service port for display\u001b[0;m\n"
     ]
    }
   ],
   "source": [
    "import open3d\n",
    "\n",
    "pcd = open3d.io.read_point_cloud(ply_file)\n",
    "open3d.visualization.draw_geometries([pcd],mesh_show_wireframe = True)"
   ]
  },
  {
   "cell_type": "markdown",
   "id": "c92f46d9",
   "metadata": {},
   "source": [
    "## Mesh fitting with PyTorch3D"
   ]
  },
  {
   "cell_type": "code",
   "execution_count": 3,
   "id": "8e7df066",
   "metadata": {},
   "outputs": [],
   "source": [
    "# Importing Libraries and Packages\n",
    "import os\n",
    "import sys\n",
    "import torch\n",
    "import numpy as np\n",
    "\n",
    "from pytorch3d.io import load_ply, save_ply\n",
    "from pytorch3d.io import load_obj, save_obj\n",
    "from pytorch3d.structures import Meshes\n",
    "from pytorch3d.utils import ico_sphere\n",
    "from pytorch3d.ops import sample_points_from_meshes\n",
    "from pytorch3d.loss import (\n",
    "    chamfer_distance,\n",
    "    mesh_edge_loss,\n",
    "    mesh_laplacian_smoothing,\n",
    "    mesh_normal_consistency,\n",
    ")"
   ]
  },
  {
   "cell_type": "code",
   "execution_count": 4,
   "id": "9a946f1a",
   "metadata": {},
   "outputs": [
    {
     "name": "stdout",
     "output_type": "stream",
     "text": [
      "WARNING: CPU only, this will be more slowly\n"
     ]
    }
   ],
   "source": [
    "# Defining PyTorch device\n",
    "if torch.cuda.is_available():\n",
    "    device = torch.device(\"cuda:0\")\n",
    "else:\n",
    "    device = torch.device(\"cpu\")\n",
    "    print(\"WARNING: CPU only, this will be more slowly\")"
   ]
  },
  {
   "cell_type": "code",
   "execution_count": 5,
   "id": "8440e8eb",
   "metadata": {},
   "outputs": [],
   "source": [
    "# Loading point cloud\n",
    "verts, faces = load_ply(ply_file)\n",
    "verts = verts.to(device)\n",
    "faces = faces.to(device) # faces is actually an empty PyTorch tensor at this point"
   ]
  },
  {
   "cell_type": "code",
   "execution_count": 6,
   "id": "248a0b0f",
   "metadata": {},
   "outputs": [],
   "source": [
    "# Running normalization and changing the tensor shapes for later processing\n",
    "center = verts.mean(0)\n",
    "verts = verts - center\n",
    "scale = max(verts.abs().max(0)[0])\n",
    "verts = verts / scale\n",
    "verts = verts[None, :, :]"
   ]
  },
  {
   "cell_type": "code",
   "execution_count": 7,
   "id": "b42c3299",
   "metadata": {},
   "outputs": [],
   "source": [
    "# Defining optimization variable \n",
    "src_mesh = ico_sphere(4, device) # it will start as a sphere and then be optimized to fit the point cloud"
   ]
  },
  {
   "cell_type": "code",
   "execution_count": 8,
   "id": "4637c95b",
   "metadata": {},
   "outputs": [],
   "source": [
    "src_vert = src_mesh.verts_list()\n",
    "deform_verts = torch.full(src_vert[0].shape, 0.0, device=device, requires_grad=True) # tensor of vertex displacements"
   ]
  },
  {
   "cell_type": "code",
   "execution_count": 9,
   "id": "f00bcb7e",
   "metadata": {},
   "outputs": [],
   "source": [
    "# Defining an SGD optimizer with \"deform_verts\" as the optimization variable\n",
    "optimizer = torch.optim.SGD([deform_verts], lr=1.0, momentum=0.9)"
   ]
  },
  {
   "cell_type": "code",
   "execution_count": 10,
   "id": "784956cb",
   "metadata": {},
   "outputs": [],
   "source": [
    "# Defining a batch of weights for different loss functions\n",
    "\n",
    "# Weight for the primary loss\n",
    "w_chamfer = 1.0 \n",
    "\n",
    "# weights for the regularization loss functions\n",
    "w_edge = 1.0\n",
    "w_normal = 0.01\n",
    "w_laplacian = 0.1"
   ]
  },
  {
   "cell_type": "code",
   "execution_count": 13,
   "id": "2ddbe590",
   "metadata": {},
   "outputs": [
    {
     "name": "stdout",
     "output_type": "stream",
     "text": [
      "i =  0\n",
      "i =  200\n",
      "i =  400\n",
      "i =  600\n",
      "i =  800\n",
      "i =  1000\n",
      "i =  1200\n",
      "i =  1400\n",
      "i =  1600\n",
      "i =  1800\n"
     ]
    }
   ],
   "source": [
    "# Iterating 2,000 times for computing the loss function, computing the gradients, \n",
    "# and going along the gradient descent directions.\n",
    "\n",
    "for i in range(0, 2000):\n",
    "    if i%200==0:\n",
    "        print(\"i = \", i)\n",
    "\n",
    "    # Initialize optimizer\n",
    "    optimizer.zero_grad()\n",
    "\n",
    "    # Deform the mesh\n",
    "    new_src_mesh = src_mesh.offset_verts(deform_verts)\n",
    "\n",
    "    # We sample 5k points from the surface of each mesh\n",
    "    # sample_trg = sample_points_from_meshes(trg_mesh, 5000)\n",
    "    sample_trg = verts\n",
    "    sample_src = sample_points_from_meshes(new_src_mesh, verts.shape[1])\n",
    "\n",
    "    # We compare the two sets of pointclouds by computing (a) the chamfer loss\n",
    "    loss_chamfer, _ = chamfer_distance(sample_trg, sample_src)\n",
    "\n",
    "    # and (b) the edge length of the predicted mesh\n",
    "    loss_edge = mesh_edge_loss(new_src_mesh)\n",
    "\n",
    "    # mesh normal consistency\n",
    "    loss_normal = mesh_normal_consistency(new_src_mesh)\n",
    "\n",
    "    # mesh laplacian smoothing\n",
    "    loss_laplacian = mesh_laplacian_smoothing(new_src_mesh, method=\"uniform\")\n",
    "\n",
    "    # Weighted sum of the losses\n",
    "    loss = (\n",
    "        loss_chamfer * w_chamfer\n",
    "        + loss_edge * w_edge\n",
    "        + loss_normal * w_normal\n",
    "        + loss_laplacian * w_laplacian\n",
    "    )\n",
    "\n",
    "    # Optimization step\n",
    "    loss.backward()\n",
    "    optimizer.step()"
   ]
  },
  {
   "cell_type": "code",
   "execution_count": 14,
   "id": "2ea05bac",
   "metadata": {},
   "outputs": [],
   "source": [
    "# Extracting the obtained vertices and faces\n",
    "final_verts, final_faces = new_src_mesh.get_mesh_verts_faces(0)\n",
    "\n",
    "# Resuming the original center location and scale\n",
    "final_verts = final_verts * scale + center"
   ]
  },
  {
   "cell_type": "code",
   "execution_count": 15,
   "id": "67a3c658",
   "metadata": {},
   "outputs": [],
   "source": [
    "# Storing the predicted mesh using save_obj\n",
    "final_obj = os.path.join(\"output\", \"deform1.ply\")\n",
    "save_ply(final_obj, final_verts, final_faces, ascii=True)"
   ]
  },
  {
   "cell_type": "markdown",
   "id": "d7780174",
   "metadata": {},
   "source": [
    "## Visualizing the obtained mesh"
   ]
  },
  {
   "cell_type": "code",
   "execution_count": 18,
   "id": "3da2d6e5",
   "metadata": {},
   "outputs": [
    {
     "name": "stdout",
     "output_type": "stream",
     "text": [
      "\u001b[1;33m[Open3D WARNING] GLFW Error: Cocoa: Failed to find service port for display\u001b[0;m\n"
     ]
    }
   ],
   "source": [
    "obtained_file = os.path.join(\"output\", \"deform1.ply\")\n",
    "\n",
    "obtained_obj = open3d.io.read_point_cloud(obtained_file)\n",
    "open3d.visualization.draw_geometries([obtained_obj],\n",
    "                                     mesh_show_wireframe = True)"
   ]
  },
  {
   "cell_type": "markdown",
   "id": "a6b11837",
   "metadata": {},
   "source": [
    "Compared to the original input point cloud from 'pedestrian.ply', the built mesh model contains far more points (2,500 compared with 239)"
   ]
  },
  {
   "cell_type": "code",
   "execution_count": null,
   "id": "54224b06",
   "metadata": {},
   "outputs": [],
   "source": []
  }
 ],
 "metadata": {
  "kernelspec": {
   "display_name": ".3d",
   "language": "python",
   "name": ".3d"
  },
  "language_info": {
   "codemirror_mode": {
    "name": "ipython",
    "version": 3
   },
   "file_extension": ".py",
   "mimetype": "text/x-python",
   "name": "python",
   "nbconvert_exporter": "python",
   "pygments_lexer": "ipython3",
   "version": "3.10.4"
  }
 },
 "nbformat": 4,
 "nbformat_minor": 5
}
