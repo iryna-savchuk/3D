{
 "cells": [
  {
   "cell_type": "markdown",
   "id": "6c864387",
   "metadata": {},
   "source": [
    "**Pose Estimation**</br>\n",
    "We are given:\n",
    "- the camera model \n",
    "- object mesh model\n",
    "- one image of the object\n",
    "\n",
    "Goal: estimate the object orientation and position. </br>\n",
    "Such a pose estimation problem can be formulated as an optimization problem, where the object pose is fitted to the image observation.\n",
    "\n",
    "**Pose Tracking**</br>\n",
    "Assume we already estimated the object pose in the time slots 1, 2,..., up to t-1. </br>\n",
    "We are given: one image observation of the object at time t.</br>\n",
    "Goal: estimate the object pose at the time slot t.\n",
    "\n",
    "### Differentiable Rendering\n",
    "**Rendering** is the process of projecting 3D physical models (a mesh model for the object, or a camera model) into 2D images. It is an imitation of the physical process of image formation and in many cases image formation itself is differentiable. However, there are cases where the pixel color is not a smooth function of the position. For example, it can happen at the occlusion boundaries. When we use conventional rendering algorithms, information about local gradients is lost due to discretization. \n",
    "\n",
    "Rendering pipeline: (1) Rasterization and (2) Shading\n",
    "\n",
    "**Rasterization** is a step of rendering where for each pixel on the imaging plane, we find the most relevant mesh face (or decide that no relevant mesh face can be found). In conventional rasterization, for each pixel, we generate a ray from the camera center going through the pixel on the imaging plane and rasterizer returns only the mesh face that is nearest to the camera.\n",
    "\n",
    "**Shading** is a process of determining pixel colors for the mesh faces returned from the 1st step. Shading is usually based on a specific shading algorithms (such as the Lambertian model or Phong model).\n",
    "\n",
    "In the rendering pipeline, the 1st step (the step of choosing the mesh to render) is a non-differentiable process, because it is mathematically modeled as a step function. Differentiable rendering has been discussed in the computer vision community for decades.\n",
    "\n",
    "The **differentiable rendering** implemented in PyTorch3D is based on *Soft Rasterizer* proposed by Liu, Li, Chen, and Li ([arXiv:1904.01786](https://arxiv.org/abs/1904.01786)). The main idea is that, on the rasterization step, instead of returning only one relevant mesh face, all the mesh faces, such that the distance of the mesh face to the ray is within a certain threshold, are found, and then the probability map for each mesh face is calculated (the pixel color is determined by the weighted averages of the shading results of all the mesh faces returned by the rasterizer).\n",
    "\n",
    "The list of parameters to control differentiable rendering in PyTorch3D:\n",
    "- RasterizationSettings.blur_radius - the treshold for the distance of the mesh face to the ray;\n",
    "- RasterizationSettings.faces_per_pixel - the maximum number of faces to be returned by rasterizor\n",
    "- BlendParams.sigma - hyperparameter used  in sigmoid functions to calculate the probability map\n",
    "- BlendParams.gamma - hyperparameter that is used calculate weights of mesh faces (to inverse depth of mesh faces)"
   ]
  },
  {
   "cell_type": "markdown",
   "id": "e0e25d0a",
   "metadata": {},
   "source": [
    "### Object Pose Estimation"
   ]
  },
  {
   "cell_type": "markdown",
   "id": "3f46733b",
   "metadata": {},
   "source": [
    "We are given:\n",
    "- the camera model \n",
    "- object mesh model\n",
    "- one image of the object\n",
    "\n",
    "Goal: estimate the object orientation and position at the moments when the image was taken. </br>\n",
    "Such a pose estimation problem can be formulated as an optimization problem, where the object pose is fitted to the image observation."
   ]
  },
  {
   "cell_type": "markdown",
   "id": "1b30ea83",
   "metadata": {},
   "source": [
    "Because it is cumbersome to rotate and move the meshes, we choose instead to fix the orientations and locations of the meshes and optimize the orientations and locations of the cameras. By assuming that the camera orientations are always pointing toward the meshes, we can further simplify the problem, such that all we need to optimize is the camera locations. Thus, we formulate our optimization problem, such that the optimization variables will be the camera locations."
   ]
  },
  {
   "cell_type": "code",
   "execution_count": 1,
   "id": "55148556",
   "metadata": {},
   "outputs": [],
   "source": [
    "# Importing libraries and packages \n",
    "import os\n",
    "import torch\n",
    "import numpy as np\n",
    "import torch.nn as nn\n",
    "import matplotlib.pyplot as plt\n",
    "\n",
    "#!pip install scikit-image\n",
    "from skimage import img_as_ubyte \n",
    "\n",
    "from pytorch3d.io import load_obj\n",
    "from pytorch3d.structures import Meshes\n",
    "\n",
    "from pytorch3d.renderer import (\n",
    "    FoVPerspectiveCameras, look_at_view_transform, look_at_rotation,\n",
    "    RasterizationSettings, MeshRenderer, MeshRasterizer, BlendParams,\n",
    "    SoftSilhouetteShader, HardPhongShader, PointLights, TexturesVertex,\n",
    ")"
   ]
  },
  {
   "cell_type": "code",
   "execution_count": 2,
   "id": "89d7e568",
   "metadata": {},
   "outputs": [
    {
     "name": "stdout",
     "output_type": "stream",
     "text": [
      "WARNING: CPU only, this will be more slowly\n"
     ]
    }
   ],
   "source": [
    "# Defining PyTorch device\n",
    "if torch.cuda.is_available():\n",
    "    device = torch.device(\"cuda:0\")\n",
    "else:\n",
    "    device = torch.device(\"cpu\")\n",
    "    print(\"WARNING: CPU only, this will be more slowly\")"
   ]
  },
  {
   "cell_type": "code",
   "execution_count": 3,
   "id": "4b0c3466",
   "metadata": {},
   "outputs": [],
   "source": [
    "# Setting directory that contains mesh files\n",
    "data_dir = \"data/\"\n",
    "\n",
    "# Setting output directory, to store rendered images for each optimization iteration\n",
    "output_dir = \"output/\""
   ]
  },
  {
   "cell_type": "code",
   "execution_count": 5,
   "id": "afb307d7",
   "metadata": {},
   "outputs": [],
   "source": [
    "# Loading the mesh model\n",
    "verts, faces_idx, _ = load_obj(data_dir+\"teapot.obj\")\n",
    "faces = faces_idx.verts_idx\n",
    "\n",
    "# Creating an all-one tensor for textures (material colors), because the mesh model does not come with textures\n",
    "verts_rgb = torch.ones_like(verts)[None]  # (1, V, 3)\n",
    "textures = TexturesVertex(verts_features=verts_rgb.to(device))\n",
    "\n",
    "# Obtaining a mesh model with textures\n",
    "teapot_mesh = Meshes(\n",
    "    verts=[verts.to(device)],\n",
    "    faces=[faces.to(device)],\n",
    "    textures=textures\n",
    ")"
   ]
  },
  {
   "cell_type": "code",
   "execution_count": 6,
   "id": "6253c36d",
   "metadata": {},
   "outputs": [],
   "source": [
    "# Defining camera model\n",
    "cameras = FoVPerspectiveCameras(device=device)"
   ]
  },
  {
   "cell_type": "code",
   "execution_count": 13,
   "id": "f1b2b5ad",
   "metadata": {},
   "outputs": [],
   "source": [
    "# Defining a differentiable renderer - silhouette_renderer\n",
    "blend_params = BlendParams(sigma=1e-4, gamma=1e-4)\n",
    "\n",
    "raster_settings = RasterizationSettings(\n",
    "    image_size=256,\n",
    "    blur_radius=np.log(1. / 1e-4 - 1.) * blend_params.sigma,\n",
    "    faces_per_pixel=100,\n",
    ")\n",
    "\n",
    "silhouette_renderer = MeshRenderer(\n",
    "    rasterizer=MeshRasterizer(\n",
    "        cameras=cameras,\n",
    "        raster_settings=raster_settings\n",
    "    ),\n",
    "    shader=SoftSilhouetteShader(blend_params=blend_params)\n",
    ")"
   ]
  },
  {
   "cell_type": "code",
   "execution_count": 14,
   "id": "168096f1",
   "metadata": {},
   "outputs": [],
   "source": [
    "# Defining phong_renderer (will be used for visualization of the optimization process)\n",
    "# !!! it is not a differentiable renderer\n",
    "raster_settings = RasterizationSettings(\n",
    "    image_size=256,\n",
    "    blur_radius=0.0,\n",
    "    faces_per_pixel=1,\n",
    ")\n",
    "\n",
    "lights = PointLights(device=device, location=((2.0, 2.0, -2.0),))\n",
    "\n",
    "phong_renderer = MeshRenderer(\n",
    "    rasterizer=MeshRasterizer(\n",
    "        cameras=cameras,\n",
    "        raster_settings=raster_settings\n",
    "    ),\n",
    "    shader=HardPhongShader(device=device, cameras=cameras, lights=lights)\n",
    ")"
   ]
  },
  {
   "cell_type": "code",
   "execution_count": 15,
   "id": "25554cf1",
   "metadata": {},
   "outputs": [],
   "source": [
    "# Defining a camera location and compute the corresponding rotation, R, and displacement, T, of the camera. \n",
    "# This rotation and displacement are the target camera position\n",
    "\n",
    "distance = 3\n",
    "elevation = 50.0\n",
    "azimuth = 0.0\n",
    "\n",
    "R, T = look_at_view_transform(distance, elevation, azimuth, device=device)"
   ]
  },
  {
   "cell_type": "code",
   "execution_count": 16,
   "id": "3ba2bb0f",
   "metadata": {},
   "outputs": [],
   "source": [
    "# Generate an image (image_ref) from this camera position and storing it\n",
    "silhouette = silhouette_renderer(meshes_world=teapot_mesh, R=R, T=T)\n",
    "image_ref = phong_renderer(meshes_world=teapot_mesh, R=R, T=T)\n",
    "\n",
    "silhouette = silhouette.cpu().numpy()\n",
    "image_ref = image_ref.cpu().numpy()\n",
    "\n",
    "plt.figure(figsize=(10, 10))\n",
    "plt.imshow(silhouette.squeeze()[..., 3])  # only plot the alpha channel of the RGBA image\n",
    "plt.grid(False)\n",
    "plt.savefig(os.path.join(output_dir, 'target_silhouette.png'))\n",
    "plt.close()\n",
    "\n",
    "plt.figure(figsize=(10, 10))\n",
    "plt.imshow(image_ref.squeeze())\n",
    "plt.grid(False)\n",
    "plt.savefig(os.path.join(output_dir, 'target_rgb.png'))\n",
    "plt.close()"
   ]
  },
  {
   "cell_type": "code",
   "execution_count": 18,
   "id": "4d9dba1b",
   "metadata": {},
   "outputs": [],
   "source": [
    "# Define a Model class that is derived from torch\n",
    "\n",
    "class Model(nn.Module):\n",
    "    \n",
    "    def __init__(self, meshes, renderer, image_ref):\n",
    "        super().__init__()\n",
    "        self.meshes = meshes\n",
    "        self.device = meshes.device\n",
    "        self.renderer = renderer\n",
    "\n",
    "        image_ref = torch.from_numpy((image_ref[..., :3].max(-1) != 1).astype(np.float32))\n",
    "        self.register_buffer('image_ref', image_ref)\n",
    "        \n",
    "        # Making the optimization variables become the model parameters\n",
    "        self.camera_position = nn.Parameter(\n",
    "            torch.from_numpy(np.array([3.0, 6.9, +2.5], dtype=np.float32)).to(meshes.device)) \n",
    "\n",
    "    def forward(self): # renders a silhouette image from the current camera position and computes a loss function \n",
    "        R = look_at_rotation(self.camera_position[None, :], device=self.device)  # (1, 3, 3)\n",
    "        T = -torch.bmm(R.transpose(1, 2), self.camera_position[None, :, None])[:, :, 0]  # (1, 3)\n",
    "\n",
    "        image = self.renderer(meshes_world=self.meshes.clone(), R=R, T=T)\n",
    "        loss = torch.sum((image[..., 3] - self.image_ref) ** 2)\n",
    "        return loss, image"
   ]
  },
  {
   "cell_type": "code",
   "execution_count": 19,
   "id": "36d090cb",
   "metadata": {},
   "outputs": [],
   "source": [
    "# Creating an instance of the class \n",
    "model = Model(meshes=teapot_mesh, renderer=silhouette_renderer, image_ref=image_ref).to(device)\n",
    "\n",
    "# Defining an optimizer\n",
    "optimizer = torch.optim.Adam(model.parameters(), lr=0.05)\n",
    "\n",
    "# Before running any optimization, we will render an image to show the starting camera position\n",
    "_, image_init = model()\n",
    "plt.figure(figsize=(10, 10))\n",
    "plt.imshow(image_init.detach().squeeze().cpu().numpy()[..., 3])\n",
    "plt.grid(False)\n",
    "plt.title(\"Starting Silhouette\")\n",
    "plt.savefig(os.path.join(output_dir, 'starting_silhouette.png'))\n",
    "plt.close()"
   ]
  },
  {
   "cell_type": "code",
   "execution_count": 20,
   "id": "10807ea0",
   "metadata": {},
   "outputs": [
    {
     "name": "stdout",
     "output_type": "stream",
     "text": [
      "i =  0\n",
      "i =  20\n",
      "i =  40\n",
      "i =  60\n",
      "Finished\n"
     ]
    }
   ],
   "source": [
    "# Running optimization iterations\n",
    "\n",
    "for i in range(0, 200):\n",
    "    \n",
    "    if i%20 == 0: # printing out every 20th step\n",
    "        print('i = ', i)\n",
    "\n",
    "    optimizer.zero_grad()\n",
    "    loss, _ = model()\n",
    "    loss.backward()\n",
    "    optimizer.step()\n",
    "\n",
    "    if loss.item() < 500:\n",
    "        break\n",
    "\n",
    "    R = look_at_rotation(model.camera_position[None, :], device=model.device)\n",
    "    T = -torch.bmm(R.transpose(1, 2), model.camera_position[None, :, None])[:, :, 0]  # (1, 3)\n",
    "    image = phong_renderer(meshes_world=model.meshes.clone(), R=R, T=T)\n",
    "    image = image[0, ..., :3].detach().squeeze().cpu().numpy()\n",
    "    image = img_as_ubyte(image)\n",
    "\n",
    "    plt.figure()\n",
    "    plt.imshow(image[..., :3])\n",
    "    plt.title(\"iter: %d, loss: %0.2f\" % (i, loss.data))\n",
    "    plt.axis(\"off\")\n",
    "    plt.savefig(os.path.join(output_dir, 'fitting_' + str(i) + '.png'))\n",
    "    plt.close()\n",
    "\n",
    "print('Finished')"
   ]
  },
  {
   "cell_type": "markdown",
   "id": "8909436b",
   "metadata": {},
   "source": [
    "### Object Pose Estimation for both Silhouette Fitting and Texture Fitting"
   ]
  },
  {
   "cell_type": "code",
   "execution_count": 1,
   "id": "9092fd9e",
   "metadata": {},
   "outputs": [],
   "source": [
    "# Importing Libraries and Packages\n",
    "import os\n",
    "import torch\n",
    "import numpy as np\n",
    "import torch.nn as nn\n",
    "import matplotlib.pyplot as plt\n",
    "from skimage import img_as_ubyte\n",
    "\n",
    "from pytorch3d.io import load_objs_as_meshes\n",
    "\n",
    "from pytorch3d.renderer import (\n",
    "    FoVPerspectiveCameras, look_at_view_transform, look_at_rotation,\n",
    "    RasterizationSettings, MeshRenderer, MeshRasterizer, BlendParams,\n",
    "    SoftSilhouetteShader, HardPhongShader, PointLights,\n",
    "    SoftPhongShader\n",
    ")"
   ]
  },
  {
   "cell_type": "code",
   "execution_count": 2,
   "id": "23b3528d",
   "metadata": {},
   "outputs": [
    {
     "name": "stdout",
     "output_type": "stream",
     "text": [
      "WARNING: CPU only, this will be more slowly\n"
     ]
    }
   ],
   "source": [
    "# Defining PyTorch device\n",
    "if torch.cuda.is_available():\n",
    "    device = torch.device(\"cuda:0\")\n",
    "else:\n",
    "    device = torch.device(\"cpu\")\n",
    "    print(\"WARNING: CPU only, this will be more slowly\")"
   ]
  },
  {
   "cell_type": "code",
   "execution_count": 3,
   "id": "c06dce0b",
   "metadata": {},
   "outputs": [],
   "source": [
    "# Setting directory that contains mesh files\n",
    "data_dir = \"data/\"\n",
    "\n",
    "# Setting output directory, to store rendered images for each optimization iteration\n",
    "output_dir = \"output/2/\""
   ]
  },
  {
   "cell_type": "code",
   "execution_count": 4,
   "id": "f2b60590",
   "metadata": {},
   "outputs": [],
   "source": [
    "# Loading a mesh model of a toy cow\n",
    "obj_filename = data_dir+\"cow_mesh/cow.obj\"\n",
    "cow_mesh = load_objs_as_meshes([obj_filename], device=device)"
   ]
  },
  {
   "cell_type": "code",
   "execution_count": 5,
   "id": "fd93f6da",
   "metadata": {},
   "outputs": [],
   "source": [
    "# Defining cameras and light sources\n",
    "cameras = FoVPerspectiveCameras(device=device)\n",
    "lights = PointLights(device=device, location=((2.0, 2.0,-2.0),))"
   ]
  },
  {
   "cell_type": "code",
   "execution_count": 6,
   "id": "349b8285",
   "metadata": {},
   "outputs": [],
   "source": [
    "# Defining a differentiable renderer - silhouette_renderer\n",
    "blend_params = BlendParams(sigma=1e-4, gamma=1e-4)\n",
    "\n",
    "raster_settings = RasterizationSettings(\n",
    "    image_size=256,\n",
    "    blur_radius=np.log(1. / 1e-4 - 1.) * blend_params.sigma,\n",
    "    faces_per_pixel=100,\n",
    ")\n",
    "\n",
    "renderer_silhouette = MeshRenderer(\n",
    "    rasterizer=MeshRasterizer(\n",
    "        cameras=cameras,\n",
    "        raster_settings=raster_settings\n",
    "    ),\n",
    "    shader=SoftSilhouetteShader(blend_params=blend_params)\n",
    ")"
   ]
  },
  {
   "cell_type": "code",
   "execution_count": 7,
   "id": "1d17a848",
   "metadata": {},
   "outputs": [],
   "source": [
    "# Creating another differentiable renderer, mainly used for rendering RGB images\n",
    "sigma = 1e-4\n",
    "\n",
    "raster_settings_soft = RasterizationSettings(\n",
    "    image_size=256,\n",
    "    blur_radius=np.log(1. / 1e-4 - 1.)*sigma,\n",
    "    faces_per_pixel=50,\n",
    ")\n",
    "\n",
    "renderer_textured = MeshRenderer(\n",
    "    rasterizer=MeshRasterizer(\n",
    "        cameras=cameras,\n",
    "        raster_settings=raster_settings_soft\n",
    "    ),\n",
    "    shader=SoftPhongShader(device=device,\n",
    "        cameras=cameras,\n",
    "        lights=lights)\n",
    ")"
   ]
  },
  {
   "cell_type": "code",
   "execution_count": 8,
   "id": "f8116b6a",
   "metadata": {},
   "outputs": [],
   "source": [
    "# Create a phong_renderer renderer to use for visualization (create sharp images) \n",
    "# because the preceding differentiable renders tend to create blurry images\n",
    "\n",
    "raster_settings = RasterizationSettings(\n",
    "    image_size=256,\n",
    "    blur_radius=0.0,\n",
    "    faces_per_pixel=1,\n",
    ")\n",
    "\n",
    "phong_renderer = MeshRenderer(\n",
    "    rasterizer=MeshRasterizer(\n",
    "        cameras=cameras,\n",
    "        raster_settings=raster_settings\n",
    "    ),\n",
    "    shader=HardPhongShader(device=device, cameras=cameras, lights=lights)\n",
    ")"
   ]
  },
  {
   "cell_type": "code",
   "execution_count": 9,
   "id": "ed90a949",
   "metadata": {},
   "outputs": [],
   "source": [
    "# Defining a camera location and compute the corresponding rotation, R, and displacement, T, of the camera. \n",
    "# This rotation and displacement are the target camera position\n",
    "distance = 3\n",
    "elevation = 50.0\n",
    "azimuth = 0.0\n",
    "\n",
    "R, T = look_at_view_transform(distance, elevation, azimuth, device=device)"
   ]
  },
  {
   "cell_type": "code",
   "execution_count": 10,
   "id": "badc9b73",
   "metadata": {},
   "outputs": [],
   "source": [
    "# Creating the observed images and save them to target_silhouette.png and target_rgb.png\n",
    "silhouette = renderer_silhouette(meshes_world=cow_mesh, R=R, T=T)\n",
    "image_ref = phong_renderer(meshes_world=cow_mesh, R=R, T=T)\n",
    "silhouette = silhouette.cpu().numpy()\n",
    "image_ref = image_ref.cpu().numpy()\n",
    "\n",
    "plt.figure(figsize=(10, 10))\n",
    "plt.imshow(silhouette.squeeze()[..., 3])\n",
    "plt.grid(False)\n",
    "plt.savefig(os.path.join(output_dir, 'target_silhouette.png'))\n",
    "plt.close()\n",
    "\n",
    "plt.figure(figsize=(10, 10))\n",
    "plt.imshow(image_ref.squeeze())\n",
    "plt.grid(False)\n",
    "plt.savefig(os.path.join(output_dir, 'target_rgb.png'))\n",
    "plt.close()"
   ]
  },
  {
   "cell_type": "code",
   "execution_count": 11,
   "id": "0a67d22d",
   "metadata": {},
   "outputs": [],
   "source": [
    "# Re-defining Model class\n",
    "# Now, will render both the alpha channel image and the RGB images \n",
    "# and compare them with the observed images. \n",
    "\n",
    "class Model(nn.Module):\n",
    "    def __init__(self, meshes, renderer_silhouette, renderer_textured, image_ref, weight_silhouette, weight_texture):\n",
    "        super().__init__()\n",
    "        self.meshes = meshes\n",
    "        self.device = meshes.device\n",
    "        self.renderer_silhouette = renderer_silhouette\n",
    "        self.renderer_textured = renderer_textured\n",
    "\n",
    "        self.weight_silhouette = weight_silhouette\n",
    "        self.weight_texture = weight_texture\n",
    "\n",
    "        image_ref_silhouette = torch.from_numpy((image_ref[..., :3].max(-1) != 1).astype(np.float32))\n",
    "        self.register_buffer('image_ref_silhouette', image_ref_silhouette)\n",
    "\n",
    "        image_ref_textured = torch.from_numpy((image_ref[..., :3]).astype(np.float32))\n",
    "        self.register_buffer('image_ref_textured', image_ref_textured)\n",
    "\n",
    "        self.camera_position = nn.Parameter(\n",
    "            torch.from_numpy(np.array([3.0, 6.9, +2.5], dtype=np.float32)).to(meshes.device))\n",
    "\n",
    "    def forward(self):\n",
    "        # Render the image using the updated camera position. Based on the new position of the\n",
    "        # camera we calculate the rotation and translation matrices\n",
    "        R = look_at_rotation(self.camera_position[None, :], device=self.device)  # (1, 3, 3)\n",
    "        T = -torch.bmm(R.transpose(1, 2), self.camera_position[None, :, None])[:, :, 0]  # (1, 3)\n",
    "\n",
    "        image_silhouette = self.renderer_silhouette(meshes_world=self.meshes.clone(), R=R, T=T)\n",
    "        image_textured = self.renderer_textured(meshes_world=self.meshes.clone(), R=R, T=T)\n",
    "\n",
    "        loss_silhouette = torch.sum((image_silhouette[..., 3] - self.image_ref_silhouette) ** 2)\n",
    "        loss_texture = torch.sum((image_textured[..., :3] - self.image_ref_textured) ** 2)\n",
    "\n",
    "        loss = self.weight_silhouette * loss_silhouette + self.weight_texture * loss_texture\n",
    "        return loss, image_silhouette, image_textured"
   ]
  },
  {
   "cell_type": "code",
   "execution_count": null,
   "id": "5737167e",
   "metadata": {},
   "outputs": [],
   "source": [
    "# Creating an instance of the Model class and an optimizer\n",
    "model = Model(meshes=cow_mesh, \n",
    "              renderer_silhouette=renderer_silhouette, \n",
    "              renderer_textured = renderer_textured,\n",
    "              image_ref=image_ref, \n",
    "              weight_silhouette=1.0, \n",
    "              weight_texture=0.1).to(device)\n",
    "\n",
    "#optimizer = torch.optim.Adam(model.parameters(), lr=0.05) \n",
    "\n",
    "### BETTER: \n",
    "optimizer = torch.optim.RMSprop(model.parameters(), lr=0.25)  # 2/"
   ]
  },
  {
   "cell_type": "code",
   "execution_count": 13,
   "id": "498ca15f",
   "metadata": {},
   "outputs": [
    {
     "data": {
      "image/png": "[encoded data removed]",
      "text/plain": [
       "<Figure size 1000x1000 with 1 Axes>"
      ]
     },
     "metadata": {},
     "output_type": "display_data"
    },
    {
     "data": {
      "image/png": "[encoded data removed]",
      "text/plain": [
       "<Figure size 1000x1000 with 1 Axes>"
      ]
     },
     "metadata": {},
     "output_type": "display_data"
    }
   ],
   "source": [
    "# Before running any optimization, \n",
    "# we will render an image to show the starting camera position\n",
    "\n",
    "_, image_silhouette_init, image_rgb_init = model()\n",
    "plt.figure(figsize=(10, 10))\n",
    "plt.imshow(image_silhouette_init.detach().squeeze().cpu().numpy()[..., 3])\n",
    "plt.grid(False)\n",
    "plt.title(\"Starting Silhouette\")\n",
    "plt.savefig(os.path.join(output_dir, 'starting_silhouette.png'))\n",
    "\n",
    "plt.figure(figsize=(10, 10))\n",
    "plt.imshow(image_rgb_init.cpu().detach().numpy().squeeze())\n",
    "plt.grid(False)\n",
    "plt.title(\"Starting RGB Image\");\n",
    "plt.savefig(os.path.join(output_dir, 'starting_rgb.png'))"
   ]
  },
  {
   "cell_type": "code",
   "execution_count": 14,
   "id": "87b7f3a3",
   "metadata": {},
   "outputs": [
    {
     "name": "stdout",
     "output_type": "stream",
     "text": [
      "i =  0\n",
      "i =  20\n",
      "i =  40\n",
      "i =  60\n",
      "i =  80\n",
      "i =  100\n",
      "i =  120\n",
      "i =  140\n",
      "i =  160\n",
      "i =  180\n",
      "Finished\n"
     ]
    }
   ],
   "source": [
    "# Running optimization iterations\n",
    "\n",
    "for i in range(0, 200):\n",
    "    if i%20 == 0:\n",
    "        print('i = ', i)\n",
    "\n",
    "    optimizer.zero_grad()\n",
    "    loss, image_silhouette, image_textured = model()\n",
    "    loss.backward()\n",
    "    optimizer.step()\n",
    "\n",
    "    plt.figure()\n",
    "    plt.imshow(image_silhouette[..., 3].detach().squeeze().cpu().numpy())\n",
    "    plt.title(\"iter: %d, loss: %0.2f\" % (i, loss.data))\n",
    "    plt.axis(\"off\")\n",
    "    plt.savefig(os.path.join(output_dir, 'soft_silhouette_' + str(i) + '.png'))\n",
    "    plt.close()\n",
    "\n",
    "    plt.figure()\n",
    "    plt.imshow(image_textured.detach().squeeze().cpu().numpy())\n",
    "    plt.title(\"iter: %d, loss: %0.2f\" % (i, loss.data))\n",
    "    plt.axis(\"off\")\n",
    "    plt.savefig(os.path.join(output_dir, 'soft_texture_' + str(i) + '.png'))\n",
    "    plt.close()\n",
    "\n",
    "    R = look_at_rotation(model.camera_position[None, :], device=model.device)\n",
    "    T = -torch.bmm(R.transpose(1, 2), model.camera_position[None, :, None])[:, :, 0]  # (1, 3)\n",
    "    image = phong_renderer(meshes_world=model.meshes.clone(), R=R, T=T)\n",
    "\n",
    "    plt.figure()\n",
    "    plt.imshow(image[..., 3].detach().squeeze().cpu().numpy())\n",
    "    plt.title(\"iter: %d, loss: %0.2f\" % (i, loss.data))\n",
    "    plt.axis(\"off\")\n",
    "    plt.savefig(os.path.join(output_dir, 'hard_silhouette_' + str(i) + '.png'))\n",
    "    plt.close()\n",
    "\n",
    "    image = image[0, ..., :3].detach().squeeze().cpu().numpy()\n",
    "    image = img_as_ubyte(image)\n",
    "\n",
    "    plt.figure()\n",
    "    plt.imshow(image[..., :3])\n",
    "    plt.title(\"iter: %d, loss: %0.2f\" % (i, loss.data))\n",
    "    plt.axis(\"off\")\n",
    "    plt.savefig(os.path.join(output_dir, 'hard_texture_' + str(i) + '.png'))\n",
    "    plt.close()\n",
    "\n",
    "    if loss.item() < 800:\n",
    "        break\n",
    "\n",
    "print('Finished')"
   ]
  },
  {
   "cell_type": "code",
   "execution_count": null,
   "id": "aa4a436f",
   "metadata": {},
   "outputs": [],
   "source": []
  }
 ],
 "metadata": {
  "kernelspec": {
   "display_name": ".3d",
   "language": "python",
   "name": ".3d"
  },
  "language_info": {
   "codemirror_mode": {
    "name": "ipython",
    "version": 3
   },
   "file_extension": ".py",
   "mimetype": "text/x-python",
   "name": "python",
   "nbconvert_exporter": "python",
   "pygments_lexer": "ipython3",
   "version": "3.10.4"
  }
 },
 "nbformat": 4,
 "nbformat_minor": 5
}
