{
 "cells": [
  {
   "cell_type": "markdown",
   "id": "05af7bfe",
   "metadata": {},
   "source": [
    "## 3D Data Representations\n",
    "**1) 3D Point Cloud** - a collection of 3D points, where each point is represented by one 3-dimensional tuple (x, y, z).\n",
    "Issues:\n",
    "- From the DL point of view, 3D point clouds are one of the unordered and irregular data types: there is no clear and regular definition of the neighbourhood, so convolutions usually cannot be applied to point clouds. Thus, special types of DL models need to be used, like [PointNet](https://arxiv.org/abs/1612.00593). \n",
    "- Heterogeneous data issue, meaning for one training dataset, different point clouds may contain a different number of 3D points. Heterogeneous data can create some difficulties when using mini-batch Gradient Descent training.\n",
    "\n",
    "**2) Mesh Representation** - another widely used 3D data representation. Each mesh contains a set of 3D points(vertices) and a set of polygons(faces), which are defined on the vertices. In most cases, meshes are obtained from post-processing from raw measurements of depth cameras or manually created during 3D asset design. \n",
    "Meshes contain additional geometric information and encode topology, and, like 3D point clouds, have heterogeneous data issues.\n",
    "\n",
    "**3) Voxel Representation** - a representation that is based on voxels, a counterpart of pixels in 3D Computer Vision. A voxel is defined by dividing a 3D cube into small-sized cubes - each of the cubes is called a voxel. Important definitions related to voxels:\n",
    "- SDF(Signed Distance Function): signed distance between the voxel center and the closest point on the surface (a positive sign means the voxel center is outside an object),\n",
    "- TSDF(Truncated Signed Distance Function): truncated values of SDF, so they range from -1 to +1. \n",
    "Voxel representation is ordered and regular, so it is possible to use convolution filters. The potential disadvantage - voxel representation requires more computer memory."
   ]
  },
  {
   "cell_type": "markdown",
   "id": "d07aaa10",
   "metadata": {},
   "source": [
    "## Working with Ply Files"
   ]
  },
  {
   "cell_type": "code",
   "execution_count": 1,
   "id": "989480eb",
   "metadata": {},
   "outputs": [],
   "source": [
    "# open3d package is handy for visualizing 3D data\n",
    "# !pip install open3d\n",
    "import open3d\n",
    "\n",
    "from pytorch3d.io import load_ply "
   ]
  },
  {
   "cell_type": "code",
   "execution_count": 2,
   "id": "89634f60",
   "metadata": {},
   "outputs": [],
   "source": [
    "data_folder = \"data/\""
   ]
  },
  {
   "cell_type": "markdown",
   "id": "a3ef8efa",
   "metadata": {},
   "source": [
    "### Example 1 - 'cube.ply'"
   ]
  },
  {
   "cell_type": "code",
   "execution_count": 3,
   "id": "419e9110",
   "metadata": {},
   "outputs": [],
   "source": [
    "# open3d package is handy for visualizing 3D data\n",
    "# !pip install open3d\n",
    "import open3d\n",
    "\n",
    "from pytorch3d.io import load_ply "
   ]
  },
  {
   "cell_type": "code",
   "execution_count": 4,
   "id": "0e5cb4b9",
   "metadata": {},
   "outputs": [],
   "source": [
    "mesh_file = data_folder+\"cube.ply\""
   ]
  },
  {
   "cell_type": "code",
   "execution_count": 5,
   "id": "bdce5624",
   "metadata": {},
   "outputs": [
    {
     "name": "stdout",
     "output_type": "stream",
     "text": [
      "\u001b[1;33m[Open3D WARNING] GLFW Error: Cocoa: Failed to find service port for display\u001b[0;m\n",
      "\u001b[1;33m[Open3D WARNING] GLFW Error: Cocoa: Failed to find service port for display\u001b[0;m\n"
     ]
    }
   ],
   "source": [
    "# Load the mesh \n",
    "mesh = open3d.io.read_triangle_mesh(mesh_file)\n",
    "\n",
    "# Create a visualizer object and add the mesh\n",
    "vis = open3d.visualization.Visualizer()\n",
    "vis.create_window()\n",
    "vis.add_geometry(mesh)\n",
    "\n",
    "# Set mesh properties\n",
    "mesh_show_wireframe = True\n",
    "mesh_show_back_face = True\n",
    "\n",
    "# Render the visualization and wait for window close\n",
    "vis.get_render_option().mesh_show_wireframe = mesh_show_wireframe\n",
    "vis.get_render_option().mesh_show_back_face = mesh_show_back_face\n",
    "vis.run()\n",
    "vis.destroy_window()"
   ]
  },
  {
   "cell_type": "code",
   "execution_count": 6,
   "id": "b79c4f50",
   "metadata": {},
   "outputs": [
    {
     "name": "stdout",
     "output_type": "stream",
     "text": [
      "Type of vertices =  <class 'torch.Tensor'> , type of faces =  <class 'torch.Tensor'>\n",
      "vertices =  tensor([[-1., -1., -1.],\n",
      "        [ 1., -1., -1.],\n",
      "        [ 1.,  1., -1.],\n",
      "        [-1.,  1., -1.],\n",
      "        [-1., -1.,  1.],\n",
      "        [ 1., -1.,  1.],\n",
      "        [ 1.,  1.,  1.],\n",
      "        [-1.,  1.,  1.]])\n",
      "faces =  tensor([[0, 1, 2],\n",
      "        [5, 4, 7],\n",
      "        [6, 2, 1],\n",
      "        [3, 7, 4],\n",
      "        [7, 3, 2],\n",
      "        [5, 1, 0],\n",
      "        [0, 2, 3],\n",
      "        [5, 7, 6],\n",
      "        [6, 1, 5],\n",
      "        [3, 4, 0],\n",
      "        [7, 2, 6],\n",
      "        [5, 0, 4]])\n"
     ]
    }
   ],
   "source": [
    "# Loading the same file with PyTorch3D\n",
    "vertices, faces = load_ply(mesh_file) #\n",
    "\n",
    "print('Type of vertices = ', type(vertices), \", type of faces = \", type(faces))\n",
    "print('vertices = ', vertices)\n",
    "print('faces = ', faces)"
   ]
  },
  {
   "cell_type": "markdown",
   "id": "66b16fee",
   "metadata": {},
   "source": [
    "### Example 2 - 'parallel_plane_mono.ply'"
   ]
  },
  {
   "cell_type": "code",
   "execution_count": 7,
   "id": "520348cd",
   "metadata": {},
   "outputs": [],
   "source": [
    "mesh_file = data_folder+\"parallel_plane_mono.ply\""
   ]
  },
  {
   "cell_type": "code",
   "execution_count": 8,
   "id": "31c13969",
   "metadata": {},
   "outputs": [],
   "source": [
    "# Visualizing the mesh using open3D\n",
    "mesh = open3d.io.read_triangle_mesh(mesh_file)\n",
    "open3d.visualization.draw_geometries([mesh],\n",
    "                                     mesh_show_wireframe = True,\n",
    "                                     mesh_show_back_face = True,\n",
    "                                     )"
   ]
  },
  {
   "cell_type": "code",
   "execution_count": 9,
   "id": "6f84cd5e",
   "metadata": {},
   "outputs": [
    {
     "name": "stdout",
     "output_type": "stream",
     "text": [
      "Type of vertices =  <class 'torch.Tensor'> , type of faces =  <class 'torch.Tensor'>\n",
      "vertices =  tensor([[-1., -1., -1.],\n",
      "        [ 1., -1., -1.],\n",
      "        [ 1.,  1., -1.],\n",
      "        [-1.,  1., -1.],\n",
      "        [-1., -1.,  1.],\n",
      "        [ 1., -1.,  1.],\n",
      "        [ 1.,  1.,  1.],\n",
      "        [-1.,  1.,  1.]])\n",
      "faces =  tensor([[0, 1, 2],\n",
      "        [0, 2, 3],\n",
      "        [5, 4, 7],\n",
      "        [5, 7, 6]])\n"
     ]
    }
   ],
   "source": [
    "# Loading the same file with PyTorch3D\n",
    "vertices, faces = load_ply(mesh_file)\n",
    "print('Type of vertices = ', type(vertices), \", type of faces = \", type(faces))\n",
    "print('vertices = ', vertices)\n",
    "print('faces = ', faces)"
   ]
  },
  {
   "cell_type": "markdown",
   "id": "791abc83",
   "metadata": {},
   "source": [
    "### Example 3 - 'parallel_plane_color.ply'"
   ]
  },
  {
   "cell_type": "markdown",
   "id": "9fc78c01",
   "metadata": {},
   "source": [
    "In the .ply file in this example, additional properties are defined for each vertex - red, green and blue properties of 'uchar' data type (see 'parallel_plane_color.ply' for details)"
   ]
  },
  {
   "cell_type": "code",
   "execution_count": 10,
   "id": "391950da",
   "metadata": {},
   "outputs": [],
   "source": [
    "mesh_file = data_folder+\"parallel_plane_color.ply\""
   ]
  },
  {
   "cell_type": "code",
   "execution_count": 11,
   "id": "a8ade129",
   "metadata": {},
   "outputs": [
    {
     "name": "stdout",
     "output_type": "stream",
     "text": [
      "\u001b[1;33m[Open3D WARNING] GLFW Error: Cocoa: Failed to find service port for display\u001b[0;m\n"
     ]
    }
   ],
   "source": [
    "# Visualizing the mesh using open3D\n",
    "mesh = open3d.io.read_triangle_mesh(mesh_file)\n",
    "open3d.visualization.draw_geometries([mesh],\n",
    "                                     mesh_show_wireframe = True,\n",
    "                                     mesh_show_back_face = True,\n",
    "                                     )"
   ]
  },
  {
   "cell_type": "code",
   "execution_count": 12,
   "id": "2c93c435",
   "metadata": {},
   "outputs": [
    {
     "name": "stdout",
     "output_type": "stream",
     "text": [
      "Type of vertices =  <class 'torch.Tensor'> , type of faces =  <class 'torch.Tensor'>\n",
      "vertices =  tensor([[-1., -1., -1.],\n",
      "        [ 1., -1., -1.],\n",
      "        [ 1.,  1., -1.],\n",
      "        [-1.,  1., -1.],\n",
      "        [-1., -1.,  1.],\n",
      "        [ 1., -1.,  1.],\n",
      "        [ 1.,  1.,  1.],\n",
      "        [-1.,  1.,  1.]])\n",
      "faces =  tensor([[0, 1, 2],\n",
      "        [0, 2, 3],\n",
      "        [5, 4, 7],\n",
      "        [5, 7, 6]])\n"
     ]
    }
   ],
   "source": [
    "# Loading the same file with PyTorch3D\n",
    "vertices, faces = load_ply(mesh_file)\n",
    "print('Type of vertices = ', type(vertices), \", type of faces = \", type(faces))\n",
    "print('vertices = ', vertices)\n",
    "print('faces = ', faces)"
   ]
  },
  {
   "cell_type": "markdown",
   "id": "1a9ef9ef",
   "metadata": {},
   "source": [
    "### Example 4 - 'cow.ply'"
   ]
  },
  {
   "cell_type": "code",
   "execution_count": 13,
   "id": "94ee4e96",
   "metadata": {},
   "outputs": [],
   "source": [
    "mesh_file = data_folder+\"cow.ply\""
   ]
  },
  {
   "cell_type": "code",
   "execution_count": 14,
   "id": "cfe19582",
   "metadata": {},
   "outputs": [
    {
     "name": "stdout",
     "output_type": "stream",
     "text": [
      "\u001b[1;33m[Open3D WARNING] GLFW Error: Cocoa: Failed to find service port for display\u001b[0;m\n"
     ]
    }
   ],
   "source": [
    "# Visualizing the mesh using open3D\n",
    "mesh = open3d.io.read_triangle_mesh(mesh_file)\n",
    "open3d.visualization.draw_geometries([mesh],\n",
    "                                     mesh_show_wireframe = True,\n",
    "                                     mesh_show_back_face = True,\n",
    "                                     )"
   ]
  },
  {
   "cell_type": "markdown",
   "id": "b23f4d9b",
   "metadata": {},
   "source": [
    "## Working with OBJ Files"
   ]
  },
  {
   "cell_type": "markdown",
   "id": "1118455a",
   "metadata": {},
   "source": [
    "### Example 1 - 'cube.obj'"
   ]
  },
  {
   "cell_type": "code",
   "execution_count": 15,
   "id": "5fbec848",
   "metadata": {},
   "outputs": [],
   "source": [
    "from pytorch3d.io import load_obj\n",
    "\n",
    "obj_file = data_folder+\"cube.obj\""
   ]
  },
  {
   "cell_type": "markdown",
   "id": "c489165c",
   "metadata": {},
   "source": [
    "We will have a look at 'cube.obj' file. The first line in it, declares the companion MaterialTemplateLibrary(MTL) file - cube.mtl. \n",
    "\n",
    "The MTL file describes surface shading properties: \n",
    "\n",
    "- Ka: Specifies an ambient color\n",
    "- Kd: Specifies a diffuse color\n",
    "- Ks: Specifies a specular color\n",
    "- Ns: Defines the focus of specular highlights\n",
    "- Ni: Defines the optical density (a.k.a index of refraction)\n",
    "- d: Specifies a factor for dissolve\n",
    "- illum: Specifies an illumination model\n",
    "- map_Kd: Specifies a color texture file to be applied to the diffuse reflectivity of the material\n",
    "\n",
    "The 'cube.obj' file can be opened by both libraries - Open3D and PyTorch3D. "
   ]
  },
  {
   "cell_type": "code",
   "execution_count": 16,
   "id": "117a6874",
   "metadata": {},
   "outputs": [
    {
     "name": "stdout",
     "output_type": "stream",
     "text": [
      "\u001b[1;33m[Open3D WARNING] GLFW Error: Cocoa: Failed to find service port for display\u001b[0;m\n"
     ]
    }
   ],
   "source": [
    "# Visualizing the mesh using open3D\n",
    "mesh = open3d.io.read_triangle_mesh(obj_file)\n",
    "open3d.visualization.draw_geometries([mesh],\n",
    "                 mesh_show_wireframe = True,\n",
    "                 mesh_show_back_face = True)"
   ]
  },
  {
   "cell_type": "code",
   "execution_count": 17,
   "id": "62417eb3",
   "metadata": {},
   "outputs": [
    {
     "name": "stdout",
     "output_type": "stream",
     "text": [
      "Type of vertices =  <class 'torch.Tensor'>\n",
      "Type of faces =  <class 'pytorch3d.io.obj_io.Faces'>\n",
      "Type of aux =  <class 'pytorch3d.io.obj_io.Properties'>\n",
      "vertices =  tensor([[-0.5000, -0.5000,  0.5000],\n",
      "        [-0.5000, -0.5000, -0.5000],\n",
      "        [-0.5000,  0.5000, -0.5000],\n",
      "        [-0.5000,  0.5000,  0.5000],\n",
      "        [ 0.5000, -0.5000,  0.5000],\n",
      "        [ 0.5000, -0.5000, -0.5000],\n",
      "        [ 0.5000,  0.5000, -0.5000],\n",
      "        [ 0.5000,  0.5000,  0.5000]])\n",
      "faces =  Faces(verts_idx=tensor([[0, 1, 2],\n",
      "        [5, 4, 7],\n",
      "        [6, 2, 1],\n",
      "        [3, 7, 4],\n",
      "        [7, 3, 2],\n",
      "        [5, 1, 0],\n",
      "        [0, 2, 3],\n",
      "        [5, 7, 6],\n",
      "        [6, 1, 5],\n",
      "        [3, 4, 0],\n",
      "        [7, 2, 6],\n",
      "        [5, 0, 4]]), normals_idx=tensor([[-1, -1, -1],\n",
      "        [-1, -1, -1],\n",
      "        [-1, -1, -1],\n",
      "        [-1, -1, -1],\n",
      "        [-1, -1, -1],\n",
      "        [-1, -1, -1],\n",
      "        [-1, -1, -1],\n",
      "        [-1, -1, -1],\n",
      "        [-1, -1, -1],\n",
      "        [-1, -1, -1],\n",
      "        [-1, -1, -1],\n",
      "        [-1, -1, -1]]), textures_idx=tensor([[-1, -1, -1],\n",
      "        [-1, -1, -1],\n",
      "        [-1, -1, -1],\n",
      "        [-1, -1, -1],\n",
      "        [-1, -1, -1],\n",
      "        [-1, -1, -1],\n",
      "        [-1, -1, -1],\n",
      "        [-1, -1, -1],\n",
      "        [-1, -1, -1],\n",
      "        [-1, -1, -1],\n",
      "        [-1, -1, -1],\n",
      "        [-1, -1, -1]]), materials_idx=tensor([0, 0, 0, 0, 0, 0, 0, 0, 0, 0, 0, 0]))\n",
      "aux =  Properties(normals=None, verts_uvs=None, material_colors={'Door': {'ambient_color': tensor([0.8000, 0.6000, 0.4000]), 'diffuse_color': tensor([0.8000, 0.6000, 0.4000]), 'specular_color': tensor([0.9000, 0.9000, 0.9000]), 'shininess': tensor([0.])}}, texture_images={}, texture_atlas=None)\n"
     ]
    }
   ],
   "source": [
    "# Loading the same file with PyTorch3D\n",
    "vertices, faces, aux = load_obj(obj_file)\n",
    "\n",
    "print('Type of vertices = ', type(vertices))\n",
    "print(\"Type of faces = \", type(faces))\n",
    "print(\"Type of aux = \", type(aux))\n",
    "print('vertices = ', vertices)\n",
    "print('faces = ', faces)\n",
    "print('aux = ', aux)"
   ]
  },
  {
   "cell_type": "markdown",
   "id": "526b5757",
   "metadata": {},
   "source": [
    "The returned **vertices** variable is a PyTorch tensor with a shape of 8x3. Each row is a vertex with the x, y, and z coordinates. \n",
    "The returned **faces** variable is a named tuple of three PyTorch tensors: verts_idx, normals_idx, and textures_idx. In the example, all the normals_idx and textures_idx tensors are invalid because the file \"cube.obj\" does not include definitions for normal and textures."
   ]
  },
  {
   "cell_type": "markdown",
   "id": "0f318326",
   "metadata": {},
   "source": [
    "### Example 2 - 'cube_texture.obj'"
   ]
  },
  {
   "cell_type": "markdown",
   "id": "a1dcf39c",
   "metadata": {},
   "source": [
    "The 'cube_texture.obj' file is similar to the file 'cube.obj' file, except for:\n",
    "- Additional lines starting with vt: each such line declares a texture vertex with x and y coordinates. Each texture vertex defines a color. The color is the pixel color at a so-called texture image, where the pixel location is the x coordinate of the texture vertex x width, and the y coordinate of the texture vertex x height. The texture image would be defined in the cube_texture.mtl companion.\n",
    "- There are additional lines starting with vn. Each such line declares a normal vector.\n",
    "- Each face definition line now contains more information about each vertex.\n",
    "\n",
    "The companion file is \"cube_texture.mtl\".\n",
    "Again, it is possible to use  both Open3D and PyTorch3D to load the mesh in the \"cube_texture.obj\" file."
   ]
  },
  {
   "cell_type": "code",
   "execution_count": 18,
   "id": "44c5cf65",
   "metadata": {},
   "outputs": [],
   "source": [
    "import open3d\n",
    "from pytorch3d.io import load_obj\n",
    "import torch"
   ]
  },
  {
   "cell_type": "code",
   "execution_count": 19,
   "id": "7813f288",
   "metadata": {},
   "outputs": [],
   "source": [
    "mesh_file = data_folder+\"cube_texture.obj\""
   ]
  },
  {
   "cell_type": "code",
   "execution_count": 20,
   "id": "47e55c60",
   "metadata": {},
   "outputs": [
    {
     "name": "stdout",
     "output_type": "stream",
     "text": [
      "\u001b[1;33m[Open3D WARNING] GLFW Error: Cocoa: Failed to find service port for display\u001b[0;m\n"
     ]
    }
   ],
   "source": [
    "# Visualizing the mesh using open3D\n",
    "mesh = open3d.io.read_triangle_mesh(mesh_file)\n",
    "open3d.visualization.draw_geometries([mesh],\n",
    "                  mesh_show_wireframe = True,\n",
    "                  mesh_show_back_face = True)"
   ]
  },
  {
   "cell_type": "code",
   "execution_count": 21,
   "id": "94cd09ca",
   "metadata": {},
   "outputs": [
    {
     "name": "stdout",
     "output_type": "stream",
     "text": [
      "Type of vertices =  <class 'torch.Tensor'>\n",
      "Type of faces =  <class 'pytorch3d.io.obj_io.Faces'>\n",
      "Type of aux =  <class 'pytorch3d.io.obj_io.Properties'>\n",
      "vertices =  tensor([[ 1.0000, -1.0000, -1.0000],\n",
      "        [ 1.0000, -1.0000,  1.0000],\n",
      "        [-1.0000, -1.0000,  1.0000],\n",
      "        [-1.0000, -1.0000, -1.0000],\n",
      "        [ 1.0000,  1.0000, -1.0000],\n",
      "        [ 1.0000,  1.0000,  1.0000],\n",
      "        [-1.0000,  1.0000,  1.0000],\n",
      "        [-1.0000,  1.0000, -1.0000]])\n",
      "faces =  Faces(verts_idx=tensor([[1, 2, 3],\n",
      "        [7, 6, 5],\n",
      "        [4, 5, 1],\n",
      "        [5, 6, 2],\n",
      "        [2, 6, 7],\n",
      "        [0, 3, 7],\n",
      "        [0, 1, 3],\n",
      "        [4, 7, 5],\n",
      "        [0, 4, 1],\n",
      "        [1, 5, 2],\n",
      "        [3, 2, 7],\n",
      "        [4, 0, 7]]), normals_idx=tensor([[0, 0, 0],\n",
      "        [1, 1, 1],\n",
      "        [2, 2, 2],\n",
      "        [3, 3, 3],\n",
      "        [4, 4, 4],\n",
      "        [5, 5, 5],\n",
      "        [0, 0, 0],\n",
      "        [1, 1, 1],\n",
      "        [2, 2, 2],\n",
      "        [3, 3, 3],\n",
      "        [4, 4, 4],\n",
      "        [5, 5, 5]]), textures_idx=tensor([[ 0,  1,  2],\n",
      "        [ 0,  3,  4],\n",
      "        [ 5,  6,  7],\n",
      "        [ 7,  4,  3],\n",
      "        [ 8,  9, 10],\n",
      "        [11, 12, 10],\n",
      "        [ 3,  0,  2],\n",
      "        [13,  0,  4],\n",
      "        [11,  5,  7],\n",
      "        [11,  7,  3],\n",
      "        [12,  8, 10],\n",
      "        [ 5, 11, 10]]), materials_idx=tensor([0, 0, 0, 0, 0, 0, 0, 0, 0, 0, 0, 0]))\n",
      "aux =  Properties(normals=tensor([[ 0., -1.,  0.],\n",
      "        [ 0.,  1.,  0.],\n",
      "        [ 1.,  0.,  0.],\n",
      "        [-0.,  0.,  1.],\n",
      "        [-1., -0., -0.],\n",
      "        [ 0.,  0., -1.]]), verts_uvs=tensor([[1.0000, 0.3333],\n",
      "        [1.0000, 0.6667],\n",
      "        [0.6667, 0.6667],\n",
      "        [0.6667, 0.3333],\n",
      "        [0.6667, 0.0000],\n",
      "        [0.0000, 0.3333],\n",
      "        [0.0000, 0.0000],\n",
      "        [0.3333, 0.0000],\n",
      "        [0.3333, 1.0000],\n",
      "        [0.0000, 1.0000],\n",
      "        [0.0000, 0.6667],\n",
      "        [0.3333, 0.3333],\n",
      "        [0.3333, 0.6667],\n",
      "        [1.0000, 0.0000]]), material_colors={'Skin': {'ambient_color': tensor([0.2000, 0.2000, 0.2000]), 'diffuse_color': tensor([0.8275, 0.7922, 0.7725]), 'specular_color': tensor([0., 0., 0.]), 'shininess': tensor([0.])}}, texture_images={'Skin': tensor([[[0.2078, 0.1765, 0.1020],\n",
      "         [0.2039, 0.1725, 0.0980],\n",
      "         [0.1961, 0.1647, 0.0902],\n",
      "         ...,\n",
      "         [0.2588, 0.2275, 0.1451],\n",
      "         [0.2510, 0.2196, 0.1373],\n",
      "         [0.2353, 0.2039, 0.1216]],\n",
      "\n",
      "        [[0.1922, 0.1608, 0.0863],\n",
      "         [0.1882, 0.1569, 0.0824],\n",
      "         [0.1922, 0.1608, 0.0863],\n",
      "         ...,\n",
      "         [0.2706, 0.2392, 0.1569],\n",
      "         [0.2510, 0.2196, 0.1373],\n",
      "         [0.2353, 0.2039, 0.1216]],\n",
      "\n",
      "        [[0.1843, 0.1529, 0.0784],\n",
      "         [0.1843, 0.1529, 0.0784],\n",
      "         [0.1882, 0.1569, 0.0824],\n",
      "         ...,\n",
      "         [0.2784, 0.2471, 0.1647],\n",
      "         [0.2510, 0.2196, 0.1373],\n",
      "         [0.2353, 0.2039, 0.1216]],\n",
      "\n",
      "        ...,\n",
      "\n",
      "        [[0.3216, 0.2706, 0.2039],\n",
      "         [0.3137, 0.2627, 0.1961],\n",
      "         [0.3020, 0.2588, 0.1882],\n",
      "         ...,\n",
      "         [0.1843, 0.1490, 0.0824],\n",
      "         [0.2039, 0.1686, 0.1020],\n",
      "         [0.2196, 0.1843, 0.1176]],\n",
      "\n",
      "        [[0.2941, 0.2510, 0.1804],\n",
      "         [0.2471, 0.2039, 0.1333],\n",
      "         [0.2314, 0.1882, 0.1176],\n",
      "         ...,\n",
      "         [0.2431, 0.2078, 0.1490],\n",
      "         [0.2235, 0.1882, 0.1294],\n",
      "         [0.2235, 0.1882, 0.1294]],\n",
      "\n",
      "        [[0.2784, 0.2353, 0.1647],\n",
      "         [0.2353, 0.1922, 0.1216],\n",
      "         [0.2157, 0.1725, 0.1020],\n",
      "         ...,\n",
      "         [0.2431, 0.2078, 0.1490],\n",
      "         [0.2235, 0.1882, 0.1294],\n",
      "         [0.2235, 0.1882, 0.1294]]])}, texture_atlas=None)\n"
     ]
    }
   ],
   "source": [
    "# Loading the same file with PyTorch3D\n",
    "vertices, faces, aux = load_obj(mesh_file)\n",
    "\n",
    "print('Type of vertices = ', type(vertices))\n",
    "print(\"Type of faces = \", type(faces))\n",
    "print(\"Type of aux = \", type(aux))\n",
    "\n",
    "print('vertices = ', vertices)\n",
    "print('faces = ', faces)\n",
    "print('aux = ', aux)"
   ]
  },
  {
   "cell_type": "code",
   "execution_count": 22,
   "id": "9468efe3",
   "metadata": {},
   "outputs": [
    {
     "name": "stdout",
     "output_type": "stream",
     "text": [
      "texture_images type =  <class 'dict'>\n",
      "Skin\n",
      "torch.Size([250, 250, 3])\n"
     ]
    }
   ],
   "source": [
    "texture_images = getattr(aux, 'texture_images')\n",
    "print('texture_images type = ', type(texture_images))\n",
    "for key in texture_images:\n",
    "    print(key)\n",
    "\n",
    "print(texture_images['Skin'].shape)"
   ]
  },
  {
   "cell_type": "markdown",
   "id": "903d43bd",
   "metadata": {},
   "source": [
    "The fields 'normals_idx' and 'textures_idx' of 'faces' contain valid indices now (instead of taking a -1 value). The field 'normals' of 'aux' is a PyTorch tensor now (instead of being None). The field 'verts_uvs' of 'aux' is a PyTorch tensor now (instead of being None).\n",
    "\n",
    "The field 'texture_images' of the 'aux' variable is not an empty dictionary any longer. The texture_images dictionary contains one entry with a key, Skin, and a PyTorch tensor with a shape of (250, 250, 3). This tensor is exactly the same as the image contained in the wal67ar_small.jpg file, as defined in the mtl_texture.mtl file."
   ]
  },
  {
   "cell_type": "code",
   "execution_count": null,
   "id": "cd04a43d",
   "metadata": {},
   "outputs": [],
   "source": []
  }
 ],
 "metadata": {
  "kernelspec": {
   "display_name": ".3d",
   "language": "python",
   "name": ".3d"
  },
  "language_info": {
   "codemirror_mode": {
    "name": "ipython",
    "version": 3
   },
   "file_extension": ".py",
   "mimetype": "text/x-python",
   "name": "python",
   "nbconvert_exporter": "python",
   "pygments_lexer": "ipython3",
   "version": "3.10.4"
  }
 },
 "nbformat": 4,
 "nbformat_minor": 5
}
