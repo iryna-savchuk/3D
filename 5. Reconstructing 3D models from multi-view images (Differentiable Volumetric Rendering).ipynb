{
 "cells": [
  {
   "cell_type": "markdown",
   "id": "96ebf301",
   "metadata": {},
   "source": [
    "## Understanding  Ray Sampling"
   ]
  },
  {
   "cell_type": "code",
   "execution_count": 1,
   "id": "820750b4",
   "metadata": {},
   "outputs": [],
   "source": [
    "# Importing Linraries and Packages\n",
    "import torch\n",
    "import math\n",
    "import numpy as np\n",
    "\n",
    "from pytorch3d.renderer import (\n",
    "    FoVPerspectiveCameras,\n",
    "    PointLights,\n",
    "    look_at_view_transform,\n",
    "    NDCGridRaysampler,\n",
    ")"
   ]
  },
  {
   "cell_type": "code",
   "execution_count": 2,
   "id": "4146747f",
   "metadata": {},
   "outputs": [
    {
     "name": "stdout",
     "output_type": "stream",
     "text": [
      "WARNING: CPU only, this will be more slowly\n"
     ]
    }
   ],
   "source": [
    "# Setting up PyTorch device\n",
    "if torch.cuda.is_available():\n",
    "    device = torch.device(\"cuda:0\")\n",
    "else:\n",
    "    device = torch.device(\"cpu\")\n",
    "    print(\"WARNING: CPU only, this will be more slowly\")"
   ]
  },
  {
   "cell_type": "code",
   "execution_count": 3,
   "id": "abab0f18",
   "metadata": {},
   "outputs": [],
   "source": [
    "# Defining a batch of 10 cameras \n",
    "num_views: int = 10\n",
    "azimuth_range: float = 180\n",
    "elev = torch.linspace(0, 0, num_views)  # keep constant\n",
    "azim = torch.linspace(-azimuth_range, azimuth_range, num_views) + 180.0\n",
    "lights = PointLights(device=device, location=[[0.0, 0.0, -3.0]])\n",
    "\n",
    "R, T = look_at_view_transform(dist=2.7, elev=elev, azim=azim)\n",
    "cameras = FoVPerspectiveCameras(device=device, R=R, T=T)"
   ]
  },
  {
   "cell_type": "code",
   "execution_count": 4,
   "id": "b3194790",
   "metadata": {},
   "outputs": [],
   "source": [
    "# Defining a ray sampler\n",
    "image_size = 64\n",
    "volume_extent_world = 3.0\n",
    "\n",
    "raysampler = NDCGridRaysampler(\n",
    "    image_width=image_size,\n",
    "    image_height=image_size,\n",
    "    n_pts_per_ray=50,\n",
    "    min_depth=0.1,\n",
    "    max_depth=volume_extent_world,\n",
    ")"
   ]
  },
  {
   "cell_type": "code",
   "execution_count": 5,
   "id": "c374fc5c",
   "metadata": {},
   "outputs": [],
   "source": [
    "# Letting the ray sampler know where our cameras are and in what directions they are pointing\n",
    "# Getting the sampled rays and points into ray_bundle\n",
    "ray_bundle = raysampler(cameras)"
   ]
  },
  {
   "cell_type": "code",
   "execution_count": 6,
   "id": "81991672",
   "metadata": {},
   "outputs": [
    {
     "name": "stdout",
     "output_type": "stream",
     "text": [
      "ray_bundle origins tensor shape =  torch.Size([10, 64, 64, 3])\n",
      "ray_bundle directions shape =  torch.Size([10, 64, 64, 3])\n",
      "ray_bundle lengths =  torch.Size([10, 64, 64, 50])\n",
      "ray_bundle xys shape =  torch.Size([10, 64, 64, 2])\n"
     ]
    }
   ],
   "source": [
    "# Printing out information on ray bundle\n",
    "print('ray_bundle origins tensor shape = ', ray_bundle.origins.shape)\n",
    "print('ray_bundle directions shape = ', ray_bundle.directions.shape)\n",
    "print('ray_bundle lengths = ', ray_bundle.lengths.shape)\n",
    "print('ray_bundle xys shape = ', ray_bundle.xys.shape)"
   ]
  },
  {
   "cell_type": "code",
   "execution_count": 7,
   "id": "6f5383a4",
   "metadata": {},
   "outputs": [],
   "source": [
    "# Saving ray bundle\n",
    "torch.save({\n",
    "    'ray_bundle': ray_bundle\n",
    "}, 'output/ray_sampling.pt')"
   ]
  },
  {
   "cell_type": "code",
   "execution_count": null,
   "id": "3fdb40d9",
   "metadata": {},
   "outputs": [],
   "source": []
  }
 ],
 "metadata": {
  "kernelspec": {
   "display_name": ".3d",
   "language": "python",
   "name": ".3d"
  },
  "language_info": {
   "codemirror_mode": {
    "name": "ipython",
    "version": 3
   },
   "file_extension": ".py",
   "mimetype": "text/x-python",
   "name": "python",
   "nbconvert_exporter": "python",
   "pygments_lexer": "ipython3",
   "version": "3.10.4"
  }
 },
 "nbformat": 4,
 "nbformat_minor": 5
}
